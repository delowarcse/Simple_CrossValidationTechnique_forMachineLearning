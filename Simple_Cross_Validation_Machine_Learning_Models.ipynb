{
 "cells": [
  {
   "cell_type": "code",
   "execution_count": 23,
   "metadata": {},
   "outputs": [],
   "source": [
    "# Import necessary dependencies\n",
    "import pandas as pd\n",
    "import numpy as np\n",
    "import matplotlib.pyplot as plt\n",
    "import model_evaluation_utils as meu\n",
    "from sklearn.model_selection import train_test_split\n",
    "from collections import Counter\n",
    "from sklearn.preprocessing import StandardScaler\n",
    "from sklearn.preprocessing import LabelEncoder\n",
    "\n",
    "%matplotlib inline\n",
    "\n",
    "# Load and merge datasets \n",
    "stroke_data = pd.read_csv('Stroke/Injure Participant Data.csv', delim_whitespace=False)\n",
    "control_data = pd.read_csv('Healthy Control Participants Data.csv', delim_whitespace=False)\n",
    "\n",
    "# store wine type as an attribute\n",
    "stroke_data['data_type'] = 'stroke'   \n",
    "control_data['data_type'] = 'control'\n",
    "\n",
    "# merge control and stroke data\n",
    "datas = pd.concat([stroke_data, control_data])\n",
    "datas = datas.sample(frac=1, random_state=42).reset_index(drop=True)\n",
    "\n",
    "# understand dataset features and values\n",
    "#datas.head()\n",
    "\n",
    "# Prepare Training and Testing Datasets\n",
    "stp_features = datas.iloc[:,:-1]\n",
    "stp_feature_names = stp_features.columns\n",
    "stp_class_labels = np.array(datas['data_type'])\n",
    "\n",
    "stp_train_X, stp_test_X, stp_train_y, stp_test_y = train_test_split(stp_features, stp_class_labels, \n",
    "                                                                    test_size=0.3, random_state=42)\n",
    "\n",
    "# Feature Scaling\n",
    "# Define the scaler \n",
    "stp_ss = StandardScaler().fit(stp_train_X)\n",
    "\n",
    "# Scale the train set\n",
    "stp_train_SX = stp_ss.transform(stp_train_X)\n",
    "\n",
    "# Scale the test set\n",
    "stp_test_SX = stp_ss.transform(stp_test_X)\n",
    "#print(Counter(stp_train_y), Counter(stp_test_y))\n",
    "#print('Features:', list(stp_feature_names))"
   ]
  },
  {
   "cell_type": "code",
   "execution_count": 43,
   "metadata": {},
   "outputs": [
    {
     "name": "stdout",
     "output_type": "stream",
     "text": [
      "[0.80952381 0.76190476 0.84126984 0.76190476 0.73015873 0.82258065\n",
      " 0.87096774 0.80645161 0.79032258 0.82258065]\n",
      "Accuracy: 0.801767 (0.039667)\n"
     ]
    }
   ],
   "source": [
    "# Support Vector Machine\n",
    "from sklearn.svm import SVC\n",
    "from sklearn.model_selection import cross_val_score\n",
    "from numpy import mean, std\n",
    "\n",
    "# Build default SVM Model\n",
    "#clf = SVC(random_state=42)\n",
    "clf = SVC()\n",
    "\n",
    "# evaluate model\n",
    "scores_svm = cross_val_score(clf,stp_train_SX, stp_train_y, cv=10)\n",
    "print(scores)\n",
    "\n",
    "# mean and std\n",
    "print('Accuracy: %f (%f)'%(mean(scores_svm),std(scores_svm)))"
   ]
  },
  {
   "cell_type": "code",
   "execution_count": 40,
   "metadata": {},
   "outputs": [
    {
     "name": "stdout",
     "output_type": "stream",
     "text": [
      "[0.82539683 0.77777778 0.77777778 0.82539683 0.84126984 0.83870968\n",
      " 0.83870968 0.77419355 0.79032258 0.77419355]\n",
      "Accuracy: 0.806375 (0.028279)\n"
     ]
    }
   ],
   "source": [
    "from sklearn.model_selection import KFold\n",
    "from sklearn.model_selection import cross_val_score\n",
    "from sklearn.linear_model import LogisticRegression\n",
    "from numpy import mean, std\n",
    "\n",
    "# prepare the cross-validation procedure\n",
    "cv = KFold(n_splits=10, random_state=1, shuffle=True)\n",
    "\n",
    "# create model\n",
    "model = LogisticRegression()\n",
    "# evaluate mode\n",
    "scores_lr = cross_val_score(model, stp_train_SX, stp_train_y, cv=cv)\n",
    "print(scores_lr)\n",
    "# mean and std of accuracy\n",
    "print('Accuracy: %f (%f)'%(mean(scores_lr), std(scores_lr)))"
   ]
  },
  {
   "cell_type": "code",
   "execution_count": 46,
   "metadata": {},
   "outputs": [
    {
     "name": "stdout",
     "output_type": "stream",
     "text": [
      "[0.87301587 0.80952381 0.73015873 0.88888889 0.79365079 0.85483871\n",
      " 0.79032258 0.75806452 0.80645161 0.79032258]\n",
      "Accuracy: 0.809524 (0.047254)\n"
     ]
    }
   ],
   "source": [
    "from sklearn.ensemble import RandomForestClassifier\n",
    "\n",
    "#k-folded\n",
    "cv_rf = KFold(n_splits=10, random_state=1, shuffle=True)\n",
    "\n",
    "# train the model\n",
    "model_rf = RandomForestClassifier()\n",
    "scores_rf = cross_val_score(model_rf, stp_train_SX, stp_train_y, cv=cv_rf)\n",
    "print(scores_rf)\n",
    "# mean and std of accuracy\n",
    "print('Accuracy: %f (%f)'%(mean(scores_rf), std(scores_rf)))"
   ]
  },
  {
   "cell_type": "code",
   "execution_count": 54,
   "metadata": {},
   "outputs": [
    {
     "name": "stdout",
     "output_type": "stream",
     "text": [
      "[0.84126984 0.80952381 0.74603175 0.87301587 0.82539683 0.87096774\n",
      " 0.80645161 0.74193548 0.82258065 0.80645161]\n",
      "Accuracy: 0.814363 (0.041977)\n"
     ]
    }
   ],
   "source": [
    "#k-folded\n",
    "cv_rft = KFold(n_splits=10,  shuffle=True, random_state=1)\n",
    "\n",
    "# train the model\n",
    "model_rft = RandomForestClassifier(n_estimators=200, max_features='auto')\n",
    "scores_rft = cross_val_score(model_rft, stp_train_SX, stp_train_y, cv=cv_rft) #random_state=42\n",
    "print(scores_rft)\n",
    "# mean and std of accuracy\n",
    "print('Accuracy: %f (%f)'%(mean(scores_rft), std(scores_rft)))"
   ]
  },
  {
   "cell_type": "code",
   "execution_count": 57,
   "metadata": {},
   "outputs": [
    {
     "name": "stdout",
     "output_type": "stream",
     "text": [
      "[0.79365079 0.74603175 0.74603175 0.88888889 0.82539683 0.82258065\n",
      " 0.74193548 0.69354839 0.85483871 0.80645161]\n",
      "Accuracy (mean, std): 0.791935 (0.056589)\n"
     ]
    }
   ],
   "source": [
    "from sklearn.tree import DecisionTreeClassifier\n",
    "\n",
    "#k-fold\n",
    "cv_dt = KFold(n_splits=10, random_state=1, shuffle=True)\n",
    "#train model\n",
    "model_dt = DecisionTreeClassifier(max_depth=4)\n",
    "scores_dt = cross_val_score(model_dt, stp_train_SX, stp_train_y, cv=cv_dt)\n",
    "\n",
    "#print score\n",
    "print(scores_dt)\n",
    "# mean and std of accuracy\n",
    "print('Accuracy (mean, std): %f (%f)'%(mean(scores_dt),std(scores_dt)))"
   ]
  },
  {
   "cell_type": "code",
   "execution_count": null,
   "metadata": {},
   "outputs": [],
   "source": []
  }
 ],
 "metadata": {
  "kernelspec": {
   "display_name": "Python 3",
   "language": "python",
   "name": "python3"
  },
  "language_info": {
   "codemirror_mode": {
    "name": "ipython",
    "version": 3
   },
   "file_extension": ".py",
   "mimetype": "text/x-python",
   "name": "python",
   "nbconvert_exporter": "python",
   "pygments_lexer": "ipython3",
   "version": "3.7.4"
  }
 },
 "nbformat": 4,
 "nbformat_minor": 2
}
